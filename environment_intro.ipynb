{
 "cells": [
  {
   "cell_type": "markdown",
   "id": "0bc1d64c",
   "metadata": {},
   "source": [
    "# 環境介紹\n",
    "\n",
    "開始之前，你需要先將執行環境安裝好，並且了解如何使用它，你需要：\n",
    "\n",
    "- 安裝 [python](https://www.python.org/)\n",
    "- 什麼是 [IDLE](https://docs.python.org/3/library/idle.html)\n",
    "- 在 python shell 下執行"
   ]
  },
  {
   "cell_type": "code",
   "execution_count": null,
   "id": "a84bddb8",
   "metadata": {},
   "outputs": [],
   "source": []
  }
 ],
 "metadata": {
  "kernelspec": {
   "display_name": "Python 3 (ipykernel)",
   "language": "python",
   "name": "python3"
  },
  "language_info": {
   "codemirror_mode": {
    "name": "ipython",
    "version": 3
   },
   "file_extension": ".py",
   "mimetype": "text/x-python",
   "name": "python",
   "nbconvert_exporter": "python",
   "pygments_lexer": "ipython3",
   "version": "3.10.4"
  }
 },
 "nbformat": 4,
 "nbformat_minor": 5
}
